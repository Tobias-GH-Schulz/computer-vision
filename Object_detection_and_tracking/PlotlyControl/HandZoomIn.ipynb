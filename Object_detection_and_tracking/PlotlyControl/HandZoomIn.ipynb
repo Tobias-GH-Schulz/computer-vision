{
 "cells": [
  {
   "cell_type": "code",
   "execution_count": 7,
   "metadata": {
    "ExecuteTime": {
     "end_time": "2021-04-18T11:19:02.112529Z",
     "start_time": "2021-04-18T11:19:02.109213Z"
    }
   },
   "outputs": [],
   "source": [
    "import cv2\n",
    "import mediapipe as mp\n",
    "import time\n",
    "import HandTrackingModule as htm\n",
    "import math\n",
    "import numpy as np\n",
    "import osascript\n",
    "\n",
    "import pandas as pd\n",
    "import dash\n",
    "import dash_core_components as dcc\n",
    "import dash_html_components as html\n",
    "import plotly.graph_objects as go\n",
    "import plotly.express as px\n",
    "import plotly.io as pio\n",
    "pio.renderers.default = \"browser\""
   ]
  },
  {
   "cell_type": "code",
   "execution_count": 8,
   "metadata": {
    "ExecuteTime": {
     "end_time": "2021-04-18T11:19:03.070624Z",
     "start_time": "2021-04-18T11:19:03.068171Z"
    }
   },
   "outputs": [],
   "source": [
    "# Use for animation rotation at the end\n",
    "x_eye = -1.25\n",
    "y_eye = 2\n",
    "z_eye = 0.5"
   ]
  },
  {
   "cell_type": "code",
   "execution_count": 6,
   "metadata": {
    "ExecuteTime": {
     "end_time": "2021-04-18T10:44:22.355160Z",
     "start_time": "2021-04-18T10:44:22.325586Z"
    }
   },
   "outputs": [
    {
     "data": {
      "application/vnd.jupyter.widget-view+json": {
       "model_id": "08084907e4a64a7b82d4f51dc39f6306",
       "version_major": 2,
       "version_minor": 0
      },
      "text/plain": [
       "FigureWidget({\n",
       "    'data': [{'type': 'scatter3d', 'uid': 'a279f7a1-9eae-4d6d-9959-e546cbda5027'}], 'layout': {…"
      ]
     },
     "metadata": {},
     "output_type": "display_data"
    }
   ],
   "source": [
    "fig = go.FigureWidget()\n",
    "fig.add_scatter3d()\n",
    "fig"
   ]
  },
  {
   "cell_type": "code",
   "execution_count": null,
   "metadata": {},
   "outputs": [],
   "source": [
    "fig = px.scatter_3d(\n",
    "    data_frame=df,\n",
    "    x='GDP per capita',\n",
    "    y='% Econ. active',\n",
    "    z='Years in school (avg)',\n",
    "    color=\"Continent\",\n",
    "    color_discrete_sequence=['magenta', 'green'],\n",
    "    # color_discrete_map={'Europe': 'black', 'Africa': 'yellow'},\n",
    "    # opacity=0.3,              # opacity values range from 0 to 1\n",
    "    # symbol='Year',            # symbol used for bubble\n",
    "    # symbol_map={\"2005\": \"square-open\", \"2010\": 3},\n",
    "    # size='resized_pop',       # size of bubble\n",
    "    # size_max=50,              # set the maximum mark size when using size\n",
    "    log_x=True,  # you can also set log_y and log_z as a log scale\n",
    "    # range_z=[9,13],           # you can also set range of range_y and range_x\n",
    "    template='ggplot2',         # 'ggplot2', 'seaborn', 'simple_white', 'plotly',\n",
    "                                # 'plotly_white', 'plotly_dark', 'presentation',\n",
    "                                # 'xgridoff', 'ygridoff', 'gridon', 'none'\n",
    "    title='Female Labor Force Participation Analysis',\n",
    "    labels={'Years in school (avg)': 'Years Women are in School'},\n",
    "    # hover_data={'Continent': False, 'GDP per capita': ':.1f'},\n",
    "    hover_name='Entity',        # values appear in bold in the hover tooltip\n",
    "    height=700,                 # height of graph in pixels\n"
   ]
  },
  {
   "cell_type": "code",
   "execution_count": null,
   "metadata": {},
   "outputs": [],
   "source": [
    "# Use for animation rotation\n",
    "fig.update_layout(scene_camera_eye=dict(x=x_eye, y=y_eye, z=z_eye),\n",
    "                   updatemenus=[dict(type='buttons',\n",
    "                                     showactive=False,\n",
    "                                     y=1,\n",
    "                                     x=0.8,\n",
    "                                     xanchor='left',\n",
    "                                     yanchor='bottom',\n",
    "                                     pad=dict(t=45, r=10),\n",
    "                                     buttons=[dict(label='Play',\n",
    "                                                   method='animate',\n",
    "                                                   args=[None, dict(frame=dict(duration=250, redraw=True),\n",
    "                                                                    transition=dict(duration=0),\n",
    "                                                                    fromcurrent=True,\n",
    "                                                                    mode='immediate'\n",
    "                                                                    )]\n",
    "                                                   )\n",
    "                                              ]\n",
    "                                     )\n",
    "                                ]\n",
    "                   )\n",
    "\n",
    "frames = []\n",
    "\n"
   ]
  },
  {
   "cell_type": "code",
   "execution_count": null,
   "metadata": {},
   "outputs": [],
   "source": []
  }
 ],
 "metadata": {
  "kernelspec": {
   "display_name": "Python 3",
   "language": "python",
   "name": "python3"
  },
  "language_info": {
   "codemirror_mode": {
    "name": "ipython",
    "version": 3
   },
   "file_extension": ".py",
   "mimetype": "text/x-python",
   "name": "python",
   "nbconvert_exporter": "python",
   "pygments_lexer": "ipython3",
   "version": "3.8.5"
  }
 },
 "nbformat": 4,
 "nbformat_minor": 2
}
